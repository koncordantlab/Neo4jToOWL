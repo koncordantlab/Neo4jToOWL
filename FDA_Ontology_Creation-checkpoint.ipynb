{
 "cells": [
  {
   "cell_type": "code",
   "execution_count": 4,
   "id": "82f393c3",
   "metadata": {
    "collapsed": true
   },
   "outputs": [
    {
     "name": "stdout",
     "output_type": "stream",
     "text": [
      "Requirement already satisfied: neo4j in c:\\users\\gsrik\\anaconda3\\lib\\site-packages (5.18.0)\n",
      "Requirement already satisfied: pytz in c:\\users\\gsrik\\anaconda3\\lib\\site-packages (from neo4j) (2023.3.post1)\n",
      "Note: you may need to restart the kernel to use updated packages.\n"
     ]
    }
   ],
   "source": [
    "pip install neo4j"
   ]
  },
  {
   "cell_type": "code",
   "execution_count": 5,
   "id": "5d391255",
   "metadata": {
    "collapsed": true
   },
   "outputs": [
    {
     "name": "stdout",
     "output_type": "stream",
     "text": [
      "Collecting rdflib\n",
      "  Obtaining dependency information for rdflib from https://files.pythonhosted.org/packages/d4/b0/7b7d8b5b0d01f1a0b12cc2e5038a868ef3a15825731b8a0d776cf47566c0/rdflib-7.0.0-py3-none-any.whl.metadata\n",
      "  Downloading rdflib-7.0.0-py3-none-any.whl.metadata (11 kB)\n",
      "Collecting isodate<0.7.0,>=0.6.0 (from rdflib)\n",
      "  Obtaining dependency information for isodate<0.7.0,>=0.6.0 from https://files.pythonhosted.org/packages/b6/85/7882d311924cbcfc70b1890780763e36ff0b140c7e51c110fc59a532f087/isodate-0.6.1-py2.py3-none-any.whl.metadata\n",
      "  Downloading isodate-0.6.1-py2.py3-none-any.whl.metadata (9.6 kB)\n",
      "Requirement already satisfied: pyparsing<4,>=2.1.0 in c:\\users\\gsrik\\anaconda3\\lib\\site-packages (from rdflib) (3.0.9)\n",
      "Requirement already satisfied: six in c:\\users\\gsrik\\anaconda3\\lib\\site-packages (from isodate<0.7.0,>=0.6.0->rdflib) (1.16.0)\n",
      "Downloading rdflib-7.0.0-py3-none-any.whl (531 kB)\n",
      "   ---------------------------------------- 0.0/531.9 kB ? eta -:--:--\n",
      "   -- ------------------------------------ 30.7/531.9 kB 660.6 kB/s eta 0:00:01\n",
      "   ------ --------------------------------- 92.2/531.9 kB 1.3 MB/s eta 0:00:01\n",
      "   ----------------- ---------------------- 235.5/531.9 kB 2.0 MB/s eta 0:00:01\n",
      "   --------------------------------- ------ 450.6/531.9 kB 2.8 MB/s eta 0:00:01\n",
      "   ---------------------------------------  522.2/531.9 kB 2.7 MB/s eta 0:00:01\n",
      "   ---------------------------------------- 531.9/531.9 kB 2.6 MB/s eta 0:00:00\n",
      "Downloading isodate-0.6.1-py2.py3-none-any.whl (41 kB)\n",
      "   ---------------------------------------- 0.0/41.7 kB ? eta -:--:--\n",
      "   ---------------------------------------- 41.7/41.7 kB ? eta 0:00:00\n",
      "Installing collected packages: isodate, rdflib\n",
      "Successfully installed isodate-0.6.1 rdflib-7.0.0\n",
      "Note: you may need to restart the kernel to use updated packages.\n"
     ]
    }
   ],
   "source": [
    "pip install rdflib"
   ]
  },
  {
   "cell_type": "code",
   "execution_count": 7,
   "id": "addbb470",
   "metadata": {},
   "outputs": [],
   "source": [
    "from neo4j import GraphDatabase\n",
    "from rdflib import Graph, URIRef, Literal, Namespace, BNode\n",
    "from rdflib.namespace import RDF, RDFS, OWL, XSD\n",
    "import re"
   ]
  },
  {
   "cell_type": "code",
   "execution_count": 8,
   "id": "7ad3e5da",
   "metadata": {},
   "outputs": [],
   "source": [
    "uri = \"bolt://localhost:7687\"  \n",
    "user = \"neo4j\"  \n",
    "password = \"12345678\"  \n",
    "driver = GraphDatabase.driver(uri, auth=(user, password))"
   ]
  },
  {
   "cell_type": "code",
   "execution_count": 46,
   "id": "0fd4e859",
   "metadata": {},
   "outputs": [],
   "source": [
    "def fetch_data(session):\n",
    "    query =\"\"\"\n",
    "        MATCH (sr:SafetyReport)-[:HAS_PATIENT]->(p:Patient)\n",
    "        OPTIONAL MATCH (p)-[:EXPERIENCED]->(ae:AdverseEvent)\n",
    "        OPTIONAL MATCH (p)-[:TOOK]->(d:Drug)\n",
    "        RETURN sr.safetyreportid AS reportId, p.id AS patientId, \n",
    "               collect(DISTINCT d.name) AS drugNames, collect(DISTINCT ae.name) AS aeNames,\n",
    "               collect(DISTINCT d.activeSubstanceName) AS activeSubstances\n",
    "        LIMIT 100\n",
    "    \"\"\"\n",
    "    result = session.run(query)\n",
    "    return [record.data() for record in result]\n",
    "\n",
    "g = Graph()\n",
    "n = Namespace(\"http://Koncordant.org/CIS890/FDA/\")\n",
    "\n",
    "def sanitize_for_uri(name):\n",
    "    name = name.replace(' ', '_')\n",
    "    name = re.sub(r\"[^a-zA-Z0-9_-]\", '', name)\n",
    "    return name\n",
    "\n",
    "for cls in [\"SafetyReport\", \"Patient\", \"Drug\", \"AdverseEvent\"]:\n",
    "    g.add((URIRef(n[cls]), RDF.type, RDFS.Class))\n",
    "    \n",
    "# Define Object Properties\n",
    "is_partOf_causing = URIRef(n[\"is_partOf_causing\"])\n",
    "has_patient = URIRef(n[\"has_patient\"])\n",
    "took = URIRef(n[\"took\"])\n",
    "has_reported = URIRef(n[\"has_reported\"])\n",
    "\n",
    "# Add the object properties to the graph\n",
    "g.add((is_partOf_causing, RDF.type, OWL.ObjectProperty))\n",
    "g.add((has_patient, RDF.type, OWL.ObjectProperty))\n",
    "g.add((took, RDF.type, OWL.ObjectProperty))\n",
    "g.add((has_reported, RDF.type, OWL.ObjectProperty))\n",
    "\n",
    "# Define the data property\n",
    "has_activesubstance = URIRef(n[\"has_activesubstance\"])\n",
    "g.add((has_activesubstance, RDF.type, OWL.DatatypeProperty))\n",
    "\n",
    "\n",
    "safetyReportClass = URIRef(n[\"SafetyReport\"])\n",
    "patientClass = URIRef(n[\"Patient\"])\n",
    "drugClass = URIRef(n[\"Drug\"])\n",
    "adverseEventClass = URIRef(n[\"AdverseEvent\"])\n",
    "\n",
    "# Adding domain and range \n",
    "g.add((has_patient, RDFS.domain, safetyReportClass))\n",
    "g.add((has_patient, RDFS.range, patientClass))\n",
    "\n",
    "g.add((took, RDFS.domain, patientClass)) \n",
    "g.add((took, RDFS.range, drugClass))\n",
    "\n",
    "g.add((has_reported, RDFS.domain, patientClass))\n",
    "g.add((has_reported, RDFS.range, adverseEventClass))\n",
    "\n",
    "g.add((has_activesubstance, RDFS.domain, drugClass))  \n",
    "g.add((has_activesubstance, RDFS.range, XSD.string))\n",
    "\n",
    "g.add((is_partOf_causing, RDFS.domain, drugClass))\n",
    "g.add((is_partOf_causing, RDFS.range, adverseEventClass))\n",
    "\n",
    "\n",
    "with driver.session() as session:\n",
    "    data = fetch_data(session)\n",
    "    \n",
    "for d in data:\n",
    "    # SafetyReport subclasses\n",
    "    sr_class_uri = URIRef(n[f\"{d['reportId']}\"])\n",
    "    g.add((sr_class_uri, RDF.type, RDFS.Class))\n",
    "    g.add((sr_class_uri, RDFS.subClassOf, URIRef(n[\"SafetyReport\"])))\n",
    "    \n",
    "    # Patient subclasses\n",
    "    p_class_uri = URIRef(n[f\"{d['patientId']}\"])\n",
    "    g.add((p_class_uri, RDF.type, RDFS.Class))\n",
    "    g.add((p_class_uri, RDFS.subClassOf, URIRef(n[\"Patient\"])))\n",
    "    \n",
    "    restriction_uri = BNode()\n",
    "    g.add((restriction_uri, RDF.type, OWL.Restriction))\n",
    "    g.add((restriction_uri, OWL.onProperty, has_patient))\n",
    "    g.add((restriction_uri, OWL.allValuesFrom, p_class_uri))\n",
    "    \n",
    "    g.add((sr_class_uri, RDFS.subClassOf, restriction_uri))\n",
    "    \n",
    "    \n",
    "    # Drug subclasses\n",
    "    for drug_name, active_substance in zip(d['drugNames'], d['activeSubstances']):\n",
    "        sanitized_drug_name = sanitize_for_uri(drug_name)\n",
    "        drug_class_uri = URIRef(n[sanitized_drug_name])\n",
    "        g.add((drug_class_uri, RDF.type, RDFS.Class))\n",
    "        g.add((drug_class_uri, RDFS.subClassOf, URIRef(n[\"Drug\"])))\n",
    "        \n",
    "        restriction = BNode()  # Anonymous node for the restriction\n",
    "        g.add((restriction, RDF.type, OWL.Restriction))\n",
    "        g.add((restriction, OWL.onProperty, has_activesubstance))\n",
    "        g.add((restriction, OWL.someValuesFrom, XSD.string))\n",
    "\n",
    "        # Apply the restriction to the Drug class\n",
    "        g.add((drug_class_uri, RDFS.subClassOf, restriction))\n",
    "\n",
    "        g.add((drug_class_uri, has_activesubstance, Literal(active_substance)))\n",
    "        \n",
    "        \n",
    "        took_restriction_uri = BNode()  # Blank node for the restriction\n",
    "        g.add((took_restriction_uri, RDF.type, OWL.Restriction))\n",
    "        g.add((took_restriction_uri, OWL.onProperty, took))\n",
    "        g.add((took_restriction_uri, OWL.someValuesFrom, drug_class_uri))\n",
    "        \n",
    "        # Apply the restriction to the specific patient subclass\n",
    "        g.add((p_class_uri, RDFS.subClassOf, took_restriction_uri))\n",
    "    \n",
    "        # AdverseEvent subclasses\n",
    "        for ae_name in d['aeNames']:\n",
    "            sanitized_ae_name = sanitize_for_uri(ae_name)\n",
    "            ae_class_uri = URIRef(n[sanitized_ae_name])\n",
    "            \n",
    "            if (ae_class_uri, RDF.type, RDFS.Class) not in g:\n",
    "                g.add((ae_class_uri, RDF.type, RDFS.Class))\n",
    "                g.add((ae_class_uri, RDFS.subClassOf, URIRef(n[\"AdverseEvent\"])))\n",
    "\n",
    "            has_reported_restriction_uri = BNode()\n",
    "            g.add((has_reported_restriction_uri, RDF.type, OWL.Restriction))\n",
    "            g.add((has_reported_restriction_uri, OWL.onProperty, has_reported))\n",
    "            g.add((has_reported_restriction_uri, OWL.someValuesFrom, ae_class_uri))\n",
    "\n",
    "            # Apply the restriction to the specific patient subclass\n",
    "            g.add((p_class_uri, RDFS.subClassOf, has_reported_restriction_uri))\n",
    "\n",
    "            is_partOf_causing_restriction_uri = BNode()\n",
    "            g.add((is_partOf_causing_restriction_uri, RDF.type, OWL.Restriction))\n",
    "            g.add((is_partOf_causing_restriction_uri, OWL.onProperty, is_partOf_causing))\n",
    "            g.add((is_partOf_causing_restriction_uri, OWL.someValuesFrom, ae_class_uri))\n",
    "\n",
    "            # Apply the restriction to the specific patient subclass\n",
    "            g.add((drug_class_uri, RDFS.subClassOf, is_partOf_causing_restriction_uri))"
   ]
  },
  {
   "cell_type": "code",
   "execution_count": 47,
   "id": "fe728d38",
   "metadata": {},
   "outputs": [
    {
     "name": "stdout",
     "output_type": "stream",
     "text": [
      "Ontology with subclasses created and saved to ontology_with_subclasses.owl.\n"
     ]
    }
   ],
   "source": [
    "g.serialize(destination=\"ontology_with_subclasses2.owl\", format=\"xml\")\n",
    "\n",
    "print(\"Ontology with subclasses created and saved to ontology_with_subclasses.owl.\")"
   ]
  },
  {
   "cell_type": "code",
   "execution_count": null,
   "id": "f55fd025",
   "metadata": {},
   "outputs": [],
   "source": []
  }
 ],
 "metadata": {
  "kernelspec": {
   "display_name": "Python 3 (ipykernel)",
   "language": "python",
   "name": "python3"
  },
  "language_info": {
   "codemirror_mode": {
    "name": "ipython",
    "version": 3
   },
   "file_extension": ".py",
   "mimetype": "text/x-python",
   "name": "python",
   "nbconvert_exporter": "python",
   "pygments_lexer": "ipython3",
   "version": "3.11.5"
  }
 },
 "nbformat": 4,
 "nbformat_minor": 5
}
